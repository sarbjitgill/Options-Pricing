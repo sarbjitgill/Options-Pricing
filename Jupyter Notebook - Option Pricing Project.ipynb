{
 "cells": [
  {
   "cell_type": "markdown",
   "metadata": {},
   "source": [
    "<div class=\"alert alert-block alert-info\">\n",
    "<b>\n",
    "\n",
    "## Homework III: Option Pricing ##\n",
    "### Subject: Python for Finance and Optimization ###\n",
    "### Homework Submission By: GILL Sarbjit & RATHOD Salonibah ### \n",
    "</b>\n",
    "</div>"
   ]
  },
  {
   "cell_type": "markdown",
   "metadata": {},
   "source": [
    "<div class=\"alert alert-block alert-warning\"> \n",
    "<b> Task 1 of 4:\n",
    "    Propose and code an implicit scheme for a call-spread – long leg: at-the-money call with 3-year maturity; short leg: call of maturity equal to 3 years with moneyness 150%.\n",
    "\n",
    "</div>"
   ]
  },
  {
   "cell_type": "code",
   "execution_count": 1,
   "metadata": {},
   "outputs": [],
   "source": [
    "import numpy as np"
   ]
  },
  {
   "cell_type": "markdown",
   "metadata": {},
   "source": [
    "Our \"Call Spread\" Pricing Approach:\n",
    "We create the grid with vertical axis being asset prices (S), while the horizontal axis will resemble the time (T). We use two methods of finite differences to approximate the PDE. Implicit scheme doesn't depend on quantities from previous state whereas the Crank-Nicholson method is an implicit method that is weighted between the explicit method and the implicit method hence we write the code that uses boundary conditions:\n",
    "<ul>\n",
    "    <li> upper boundary whose value is derived by taking the expectation of E[Payoff of long call + Payoff of short call] where price is the initial asset price compounded at the riskless rate multiplied by the terminal time value: max(S-K1,0)+ - max(S-K2,0)+. (here K is the strike or exercise price) </li>\n",
    "    <li> lower boundary is where the option price is 0. </li>\n",
    "    <li> The time at expiration, t = T, and the option can be calculated for all the different stock prices for this boundary condition.</li>\n",
    "Option prices will be calculated for each time step backwards from t = T.\n",
    "</ul>"
   ]
  },
  {
   "cell_type": "code",
   "execution_count": 2,
   "metadata": {},
   "outputs": [],
   "source": [
    "def pde_implicit_scheme_for_call_spread(S_0, r, sigma, T, K1, K2, H, nb_x_side, nb_t):\n",
    "# first, we build the grid\n",
    "    nb_x = 2 * nb_x_side + 1\n",
    "    xs = np.linspace(np.log(S_0)-H, np.log(S_0)+H, nb_x)\n",
    "    dx = 2. * H / (nb_x - 1.) \n",
    "    dt = T / (nb_t - 1.)\n",
    "    ts = np.linspace(0, T, nb_t)\n",
    "    p = np.empty([nb_x, nb_t]) # defining price \n",
    "    g = lambda S : (np.maximum(S-K1,0.))-(np.maximum(S-K2,0.)) # combining the payoff of long and short calls\n",
    "    p[:,0] = g(np.exp(xs))\n",
    "    p[0,:] = 0. # lower boundary\n",
    "    p[-1,:] = (K2-K1) * np.exp(-r*ts) # upper boundary\n",
    "    # now we define code to solve the implicit scheme through finite differences\n",
    "    d = 1.+dt*(r + (r-0.5*sigma**2)/dx + sigma**2 / dx**2) # dominant diagonal\n",
    "    sup_d = -dt*((r-0.5*sigma**2)/dx + 0.5 * sigma**2 / dx**2) # alpha\n",
    "    inf_d = -dt*(0.5 * sigma**2 / dx**2) # gamma\n",
    "    A = np.diag(d * np.ones(nb_x-2)) + np.diag(sup_d * np.ones(nb_x-3), 1) + np.diag(inf_d * np.ones(nb_x-3), -1) # defining matrix A\n",
    "    v = np.zeros_like(p[1:-1,0])\n",
    "    v[-1] = 1.\n",
    "    invA = np.linalg.inv(A)\n",
    "    for t in range(1,nb_t):\n",
    "        p[1:-1,t] = invA @ (p[1:-1,t-1] - sup_d * p[-1,t] * v)   \n",
    "    return p, p[nb_x_side,-1]"
   ]
  },
  {
   "cell_type": "code",
   "execution_count": 3,
   "metadata": {},
   "outputs": [
    {
     "data": {
      "text/plain": [
       "(1.1111111111111114, 89.99999999999999)"
      ]
     },
     "execution_count": 3,
     "metadata": {},
     "output_type": "execute_result"
    }
   ],
   "source": [
    "S_0 = 10. # intial price\n",
    "H = np.log(9*S_0) - np.log(S_0) # H being sufficiently large\n",
    "nb_x_side = 1000 # defining points on the grid\n",
    "nb_t = 300 # defining points on the grid\n",
    "S_min = S_0 * np.exp(-H)\n",
    "S_max = S_0 * np.exp(H)\n",
    "K1 = 10. # long call at the money\n",
    "K2 = 2*S_0/3 # short call at moneyness 150% being in the money\n",
    "r = 0.02 # riskless rate\n",
    "sigma = 0.25 # volatility\n",
    "T = 3. # time to maturity\n",
    "S_min, S_max"
   ]
  },
  {
   "cell_type": "code",
   "execution_count": 4,
   "metadata": {},
   "outputs": [
    {
     "name": "stdout",
     "output_type": "stream",
     "text": [
      "The price of the call spread under the implicit scheme is: -1.9948243179193605\n",
      "CPU times: user 2.21 s, sys: 125 ms, total: 2.34 s\n",
      "Wall time: 758 ms\n"
     ]
    }
   ],
   "source": [
    "%%time\n",
    "table_call_spread_price_implicit, call_spread_price_implicit = pde_implicit_scheme_for_call_spread(S_0, r, sigma, T, K1, K2, H, nb_x_side, nb_t)\n",
    "call_spread_price_implicit\n",
    "\n",
    "print(f\"The price of the call spread under the implicit scheme is: {call_spread_price_implicit}\")"
   ]
  },
  {
   "cell_type": "markdown",
   "metadata": {},
   "source": [
    "<div class=\"alert alert-block alert-warning\"> \n",
    "<b> Task 2 of 4:\n",
    "    Propose and code a Crank-Nicolson for a call-spread – long leg: at-the-money call with 3-year maturity ; short leg: call of maturity equal to 3 years with moneyness 150%.\n",
    "\n",
    "</div>"
   ]
  },
  {
   "cell_type": "code",
   "execution_count": 5,
   "metadata": {},
   "outputs": [],
   "source": [
    "def crank_scheme_for_call_spread(S_0, r, sigma, T, K1, K2, H, nb_x_side, nb_t):\n",
    "    nb_x = 2 * nb_x_side + 1\n",
    "    xs = np.linspace(np.log(S_0)-H, np.log(S_0)+H, nb_x)\n",
    "    dx = 2. * H / (nb_x - 1.) \n",
    "    dt = T / (nb_t - 1.)\n",
    "    ts = np.linspace(0, T, nb_t)\n",
    "    p = np.empty([nb_x, nb_t])\n",
    "    g = lambda S : (np.maximum(S-K1,0.))-(np.maximum(S-K2,0.))\n",
    "    p[:,0] = g(np.exp(xs))\n",
    "    p[0,:] = 0.\n",
    "    p[-1,:] = (K2-K1) * np.exp(-r*ts)\n",
    "    # now we define Crank-Nicholson code to solve the scheme through finite differences taking aspects of both implicit and explicit\n",
    "    d = 0.5 * dt * (r + (r-0.5*sigma**2)/dx + sigma**2 / dx**2)\n",
    "    sup_d = -0.5 * dt * ((r-0.5*sigma**2)/dx + 0.5 * sigma**2 / dx**2)\n",
    "    inf_d = -0.5 * dt * (0.5 * sigma**2 / dx**2)\n",
    "    A = (np.diag((1.+d)*np.ones(nb_x))) + (sup_d * np.diag(np.ones(nb_x -1),1)) + (inf_d * np.diag(np.ones(nb_x -1),-1))\n",
    "    B = (np.diag((1.-d)*np.ones(nb_x))) - (sup_d * np.diag(np.ones(nb_x -1),1)) - (inf_d * np.diag(np.ones(nb_x -1),-1))\n",
    "    C = np.linalg.inv(A) @ B\n",
    "    for t in range(1,nb_t):\n",
    "        p[1:-1,t] = (C @ p[:,t-1])[1:-1]\n",
    "    return p, p[nb_x_side,-1]"
   ]
  },
  {
   "cell_type": "code",
   "execution_count": 6,
   "metadata": {},
   "outputs": [
    {
     "name": "stdout",
     "output_type": "stream",
     "text": [
      "The price of the call spread under the Crank Nicholson scheme is: -1.994200022934274\n",
      "CPU times: user 3.42 s, sys: 165 ms, total: 3.59 s\n",
      "Wall time: 959 ms\n"
     ]
    }
   ],
   "source": [
    "%%time\n",
    "\n",
    "table_call_spread_crank, call_spread_price_crank = crank_scheme_for_call_spread(S_0, r, sigma, T, K1, K2, H, nb_x_side, nb_t)\n",
    "call_spread_price_crank\n",
    "\n",
    "print(f\"The price of the call spread under the Crank Nicholson scheme is: {call_spread_price_crank}\")"
   ]
  },
  {
   "cell_type": "code",
   "execution_count": 7,
   "metadata": {},
   "outputs": [
    {
     "name": "stdout",
     "output_type": "stream",
     "text": [
      "The absolute price difference between the two call spread prices is: 0.0006242949850865376\n"
     ]
    }
   ],
   "source": [
    "# Exploring the consistency between the two prices for the same call-spread option\n",
    "\n",
    "price_diff_callspread = np.abs(call_spread_price_crank - call_spread_price_implicit)\n",
    "print(f\"The absolute price difference between the two call spread prices is: {price_diff_callspread}\")"
   ]
  },
  {
   "cell_type": "markdown",
   "metadata": {},
   "source": [
    "<div class=\"alert alert-block alert-warning\"> \n",
    "<b> Task 3 of 4:\n",
    "    Propose and code an implicit scheme for a 10-year maturity put option with moneyness 80%.\n",
    "\n",
    "</div>"
   ]
  },
  {
   "cell_type": "markdown",
   "metadata": {},
   "source": [
    "**Please Note: We are pricing a long put below.**"
   ]
  },
  {
   "cell_type": "markdown",
   "metadata": {},
   "source": [
    "Our \"Put Option\" Pricing Approach:\n",
    "We create the grid with vertical axis being asset prices (S), while the horizontal axis will resemble the time (T). We use two methods of finite differences to approximate the PDE. \n",
    "Implicit scheme doesn't depend on quantities from previous state whereas the Crank-Nicholson method is an implicit method that is weighted between the explicit method and the implicit method hence we write the code that uses boundary conditions:\n",
    "<ul>\n",
    "    <li> upper boundary is 0. </li>\n",
    "    <li> lower boundary's value is derived by taking the expectation of E[Payoff of long put] where price is the initial asset price compounded at the riskless rate multiplied by the terminal time value: max(K-S,0)+ (here K is the strike or exercise price) </li> the option values for maximal asset value is Smax hence max(S-K,0). (here K is the strike or exercise price) </li>\n",
    "    <li> The time at expiration, t = T, and the option can be calculated for all the different stock prices for this boundary condition.</li>\n",
    "Option prices will be calculated for each time step backwards from t = T.\n",
    "</ul>   "
   ]
  },
  {
   "cell_type": "code",
   "execution_count": 8,
   "metadata": {},
   "outputs": [],
   "source": [
    "def pde_implicit_scheme_for_put(S_0, r, sigma, T, K, H, nb_x_side, nb_t):\n",
    "    nb_x = 2 * nb_x_side + 1\n",
    "    xs = np.linspace(np.log(S_0)-H, np.log(S_0)+H, nb_x)\n",
    "    dx = 2. * H / (nb_x - 1.) \n",
    "    dt = T / (nb_t - 1.)\n",
    "    ts = np.linspace(0, T, nb_t)\n",
    "    p = np.empty([nb_x, nb_t])\n",
    "    g = lambda S : np.maximum(0.,K-S) # payoff function for put\n",
    "    p[:,0] = g(np.exp(xs))\n",
    "    p[0,:] = K * np.exp(-r*ts) - (np.exp(np.log(S_0)-H))\n",
    "    p[-1,:] = 0.\n",
    "    d = 1.+dt*(r + (r-0.5*sigma**2)/dx + sigma**2 / dx**2)\n",
    "    sup_d = -dt*((r-0.5*sigma**2)/dx + 0.5 * sigma**2 / dx**2)\n",
    "    inf_d = -dt*(0.5 * sigma**2 / dx**2)\n",
    "    A = np.diag(d * np.ones(nb_x-2)) + np.diag(sup_d * np.ones(nb_x-3), 1) + np.diag(inf_d * np.ones(nb_x-3), -1)\n",
    "    v = np.zeros_like(p[1:-1,0])\n",
    "    v[-1] = 0. #last element is no longer 1\n",
    "    invA = np.linalg.inv(A)\n",
    "    for t in range(1,nb_t):\n",
    "        p[1:-1,t] = invA @ (p[1:-1,t-1] - inf_d * p[0,t] * v)   \n",
    "    return p, p[nb_x_side,-1]"
   ]
  },
  {
   "cell_type": "code",
   "execution_count": 9,
   "metadata": {},
   "outputs": [
    {
     "data": {
      "text/plain": [
       "(0.3333333333333335, 299.9999999999999)"
      ]
     },
     "execution_count": 9,
     "metadata": {},
     "output_type": "execute_result"
    }
   ],
   "source": [
    "S_0 = 10.\n",
    "H = np.log(30*S_0) - np.log(S_0) # due to increase in maturity tenure we further increased H\n",
    "nb_x_side = 1000\n",
    "nb_t = 300\n",
    "S_min = S_0 * np.exp(-H)\n",
    "S_max = S_0 * np.exp(H)\n",
    "K = 0.8*S_0 # moneyness 80% at out of money\n",
    "r = 0.02\n",
    "sigma = 0.25\n",
    "T = 10.\n",
    "S_min, S_max"
   ]
  },
  {
   "cell_type": "code",
   "execution_count": 10,
   "metadata": {},
   "outputs": [
    {
     "name": "stdout",
     "output_type": "stream",
     "text": [
      "The price of the long put option under the implicit scheme is: 1.1482707813585011\n",
      "CPU times: user 2.41 s, sys: 54.5 ms, total: 2.46 s\n",
      "Wall time: 637 ms\n"
     ]
    }
   ],
   "source": [
    "%%time\n",
    "table_put_price_implicit, put_price_implicit = pde_implicit_scheme_for_put(S_0, r, sigma, T, K, H, nb_x_side, nb_t)\n",
    "put_price_implicit\n",
    "\n",
    "print(f\"The price of the long put option under the implicit scheme is: {put_price_implicit}\")"
   ]
  },
  {
   "cell_type": "markdown",
   "metadata": {},
   "source": [
    "<div class=\"alert alert-block alert-warning\"> \n",
    "<b> Task 4 of 4:\n",
    "    Propose and code a Crank-Nicolson scheme for a 10-year maturity put option with moneyness 80%.\n",
    "\n",
    "</div>"
   ]
  },
  {
   "cell_type": "code",
   "execution_count": 11,
   "metadata": {},
   "outputs": [],
   "source": [
    "def crank_scheme_for_put(S_0, r, sigma, T, K, H, nb_x_side, nb_t):\n",
    "    nb_x = 2 * nb_x_side + 1\n",
    "    xs = np.linspace(np.log(S_0)-H, np.log(S_0)+H, nb_x)\n",
    "    dx = 2. * H / (nb_x - 1.) \n",
    "    dt = T / (nb_t - 1.)\n",
    "    ts = np.linspace(0, T, nb_t)\n",
    "    p = np.empty([nb_x, nb_t])\n",
    "    g = lambda S : np.maximum(0.,K-S)\n",
    "    p[:,0] = g(np.exp(xs))\n",
    "    p[0,:] = K * np.exp(-r*ts) - (np.exp(np.log(S_0)-H))\n",
    "    p[-1,:] = 0.\n",
    "    d = 0.5 * dt * (r + (r-0.5*sigma**2)/dx + sigma**2 / dx**2)\n",
    "    sup_d = -0.5 * dt * ((r-0.5*sigma**2)/dx + 0.5 * sigma**2 / dx**2)\n",
    "    inf_d = -0.5 * dt * (0.5 * sigma**2 / dx**2)\n",
    "    A = (np.diag((1.+d)*np.ones(nb_x))) + (sup_d * np.diag(np.ones(nb_x -1),1)) + (inf_d * np.diag(np.ones(nb_x -1),-1))\n",
    "    B = (np.diag((1.-d)*np.ones(nb_x))) - (sup_d * np.diag(np.ones(nb_x -1),1)) - (inf_d * np.diag(np.ones(nb_x -1),-1))\n",
    "    C = np.linalg.inv(A) @ B\n",
    "    for t in range(1,nb_t):\n",
    "        p[1:-1,t] = (C @ p[:,t-1])[1:-1]\n",
    "    return p, p[nb_x_side,-1]"
   ]
  },
  {
   "cell_type": "code",
   "execution_count": 12,
   "metadata": {},
   "outputs": [
    {
     "name": "stdout",
     "output_type": "stream",
     "text": [
      "The price of the long put under the Crank Nicholson scheme is: 1.149437414631536\n",
      "CPU times: user 3.48 s, sys: 91.9 ms, total: 3.57 s\n",
      "Wall time: 964 ms\n"
     ]
    }
   ],
   "source": [
    "%%time\n",
    "table_put_price_crank, put_price_crank = crank_scheme_for_put(S_0, r, sigma, T, K, H, nb_x_side, nb_t)\n",
    "put_price_crank\n",
    "\n",
    "print(f\"The price of the long put under the Crank Nicholson scheme is: {put_price_crank}\")"
   ]
  },
  {
   "cell_type": "code",
   "execution_count": 13,
   "metadata": {},
   "outputs": [
    {
     "name": "stdout",
     "output_type": "stream",
     "text": [
      "The absolute price difference between the two call spread prices is: 0.0011666332730349005\n"
     ]
    }
   ],
   "source": [
    "# Exploring the consistency between the two prices for the same long put option\n",
    "\n",
    "price_diff_callspread2 = np.abs(put_price_implicit - put_price_crank)\n",
    "print(f\"The absolute price difference between the two call spread prices is: {price_diff_callspread2}\")"
   ]
  },
  {
   "cell_type": "markdown",
   "metadata": {},
   "source": [
    "<div class=\"alert alert-block alert-info\">\n",
    "<b>\n",
    "\n",
    "    Thank You!\n",
    "</b>\n",
    "</div>"
   ]
  }
 ],
 "metadata": {
  "kernelspec": {
   "display_name": "Python 3 (ipykernel)",
   "language": "python",
   "name": "python3"
  },
  "language_info": {
   "codemirror_mode": {
    "name": "ipython",
    "version": 3
   },
   "file_extension": ".py",
   "mimetype": "text/x-python",
   "name": "python",
   "nbconvert_exporter": "python",
   "pygments_lexer": "ipython3",
   "version": "3.9.13"
  }
 },
 "nbformat": 4,
 "nbformat_minor": 4
}
